{
 "cells": [
  {
   "cell_type": "markdown",
   "metadata": {},
   "source": [
    "# COGS 108 - EDA Checkpoint"
   ]
  },
  {
   "cell_type": "markdown",
   "metadata": {},
   "source": [
    "# Names\n",
    "\n",
    "- Aditya Sriram\n",
    "- Weston Chester\n",
    "- Katherine Gao\n",
    "- Nicole Liu\n",
    "- Sophia Conti"
   ]
  },
  {
   "cell_type": "markdown",
   "metadata": {},
   "source": [
    "<a id='research_question'></a>\n",
    "# Research Question"
   ]
  },
  {
   "cell_type": "markdown",
   "metadata": {},
   "source": [
    "Is California on track to reach its goal of 100% zero emission sales by 2035?\n",
    "\n",
    "Hypothesis: Based on previous data, we believe that California is on track to meet its 100% zero emission sales goal by 2035."
   ]
  },
  {
   "cell_type": "markdown",
   "metadata": {},
   "source": [
    "# Setup"
   ]
  },
  {
   "cell_type": "code",
   "execution_count": 1,
   "metadata": {},
   "outputs": [
    {
     "name": "stderr",
     "output_type": "stream",
     "text": [
      "/opt/conda/lib/python3.9/site-packages/statsmodels/tsa/base/tsa_model.py:7: FutureWarning: pandas.Int64Index is deprecated and will be removed from pandas in a future version. Use pandas.Index with the appropriate dtype instead.\n",
      "  from pandas import (to_datetime, Int64Index, DatetimeIndex, Period,\n",
      "/opt/conda/lib/python3.9/site-packages/statsmodels/tsa/base/tsa_model.py:7: FutureWarning: pandas.Float64Index is deprecated and will be removed from pandas in a future version. Use pandas.Index with the appropriate dtype instead.\n",
      "  from pandas import (to_datetime, Int64Index, DatetimeIndex, Period,\n"
     ]
    }
   ],
   "source": [
    "## YOUR CODE HERE\n",
    "import numpy as np\n",
    "import matplotlib.pyplot as plt\n",
    "import seaborn as sns\n",
    "import statsmodels.api as sm\n",
    "import pandas as pd"
   ]
  },
  {
   "cell_type": "markdown",
   "metadata": {},
   "source": [
    "# Data Cleaning"
   ]
  },
  {
   "cell_type": "markdown",
   "metadata": {},
   "source": [
    "Describe your data cleaning steps here."
   ]
  },
  {
   "cell_type": "code",
   "execution_count": 3,
   "metadata": {},
   "outputs": [],
   "source": [
    "## YOUR CODE HERE\n",
    "## FEEL FREE TO ADD MULTIPLE CELLS PER SECTION\n",
    "\n",
    "# Import ZEV Sales as Dataset\n",
    "zev_sales = pd.read_csv('Data/zev_sales.csv')\n",
    "zev_sales = zev_sales[(zev_sales['Data Year'] <= 2021) & (zev_sales['Data Year'] >= 2009)]\n",
    "\n",
    "# ZEV sales as a percentage of cars registered by county in 2021\n",
    "reg_2021 = pd.read_csv('Data/Vehicles Registered By County-2021.csv', encoding='utf-16')\n",
    "reg_2021 = reg_2021.dropna().iloc[0:59].drop(columns=['Trailers', 'Motorcycles'])\n",
    "reg_2021['Total Vehicles'] = reg_2021['Autos'] + reg_2021['Trucks']\n",
    "reg_2021['Counties'] = reg_2021['Counties'].apply(str.lower)\n",
    "reg_2021.sort_values(by = 'Counties', inplace = True)\n",
    "\n",
    "# Motor Vehicle Registrations (total)\n",
    "motor_total = pd.read_csv('Data/Motor_Vehicle_Registrations.csv')\n",
    "motor_cal = motor_total[motor_total['state']=='California'] # Specifically evaluate California data\n",
    "motor_total = motor_total.groupby('year').sum(numeric_only=True)\n",
    "motor_cal = motor_cal.drop('state', axis=1)\n",
    "col_list = ['Auto', 'Bus', 'Truck', 'Motorcycle']\n",
    "motor_total['Total'] = motor_total[col_list].sum(axis=1)\n",
    "motor_total['Year'] = pd.Series(list(motor_total.index)).values\n",
    "motor_cal['Total_Cal'] = motor_cal[col_list].sum(axis=1)\n",
    "motor_cal = motor_cal.rename(columns={\"year\":\"Year\"})\n",
    "\n",
    "# Vehicle Registration by Fuel Type\n",
    "veh_reg_2016 = pd.read_csv('Data/Vehicle Registration Counts by State_2016.csv')\n",
    "veh_reg_2017 = pd.read_csv('Data/Vehicle Registration Counts by State_2017.csv')\n",
    "veh_reg_2018 = pd.read_csv('Data/Vehicle Registration Counts by State_2018.csv')\n",
    "veh_reg_2019 = pd.read_csv('Data/Vehicle Registration Counts by State_2019.csv')\n",
    "veh_reg_2020 = pd.read_csv('Data/Vehicle Registration Counts by State_2020.csv')\n",
    "veh_reg_2021 = pd.read_csv('Data/Vehicle Registration Counts by State_2021.csv')\n",
    "all_sets = [veh_reg_2016, veh_reg_2017, veh_reg_2018, veh_reg_2019, veh_reg_2020, veh_reg_2021]\n",
    "year = 2016\n",
    "for df in all_sets:\n",
    "    df['Year']=year\n",
    "    year += 1\n",
    "registrations = pd.concat(all_sets).reset_index(drop= True)\n",
    "category_list = ['Electric (EV)','Plug-In Hybrid Electric (PHEV)','Hybrid Electric (HEV)','Biodiesel','Ethanol/Flex (E85)','Compressed Natural Gas (CNG)','Propane','Hydrogen','Methanol','Gasoline','Diesel']\n",
    "for category in category_list:\n",
    "    registrations[category] = registrations[category].astype(str)\n",
    "    registrations[category] = registrations[category].apply(lambda x: x.replace(',', ''))\n",
    "    registrations[category] = registrations[category].astype(int)\n",
    "registrations[\"Total\"] = registrations[category_list].sum(axis=1)\n",
    "registrations['Percentage'] = registrations['Electric (EV)']/registrations[\"Total\"]\n",
    "cal_registrations = registrations[registrations[\"State\"] == \"California\"]"
   ]
  },
  {
   "cell_type": "markdown",
   "metadata": {},
   "source": [
    "# Data Analysis & Results (EDA)"
   ]
  },
  {
   "cell_type": "markdown",
   "metadata": {},
   "source": [
    "Carry out EDA on your dataset(s); Describe in this section"
   ]
  },
  {
   "cell_type": "code",
   "execution_count": 3,
   "metadata": {},
   "outputs": [],
   "source": [
    "## YOUR CODE HERE\n",
    "## FEEL FREE TO ADD MULTIPLE CELLS PER SECTION"
   ]
  }
 ],
 "metadata": {
  "kernelspec": {
   "display_name": "Python 3 (ipykernel)",
   "language": "python",
   "name": "python3"
  },
  "language_info": {
   "codemirror_mode": {
    "name": "ipython",
    "version": 3
   },
   "file_extension": ".py",
   "mimetype": "text/x-python",
   "name": "python",
   "nbconvert_exporter": "python",
   "pygments_lexer": "ipython3",
   "version": "3.9.5"
  }
 },
 "nbformat": 4,
 "nbformat_minor": 2
}
