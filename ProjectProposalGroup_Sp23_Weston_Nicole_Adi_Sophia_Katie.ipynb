{
 "cells": [
  {
   "cell_type": "markdown",
   "metadata": {},
   "source": [
    "# COGS 108 - Final Project Proposal"
   ]
  },
  {
   "cell_type": "markdown",
   "metadata": {},
   "source": [
    "# Names\n",
    "\n",
    "- Aditya Sriram\n",
    "- Nicole Liu\n",
    "- Weston Chester\n",
    "- Sophia Conti\n",
    "- Katherine Gao"
   ]
  },
  {
   "cell_type": "markdown",
   "metadata": {},
   "source": [
    "# Research Question"
   ]
  },
  {
   "cell_type": "markdown",
   "metadata": {},
   "source": [
    "Given public sentiment towards EVs and EV affordability, can California reach its goal of 100% zero emission sales by 2035?\n"
   ]
  },
  {
   "cell_type": "markdown",
   "metadata": {},
   "source": [
    "## Background and Prior Work"
   ]
  },
  {
   "cell_type": "markdown",
   "metadata": {},
   "source": [
    "\n",
    "Electric vehicles have become an important topic of discussion in the past decade because of the potential for better sustainability and lesser use of fossil fuels. California has a strong focus on implementing electric and hybrid vehicles for the betterment of the environment. California has set a goal to have “100% new zero-emission sales by 2035” (California Air Resources Board). This means that all new vehicles sold “off the lot” for regular consumer use will have to be hybrid or electric by 2035. This goal will be met by gradual progress and there are projected requirements of EV vehicles sold in the upcoming years in order to reach said goal. The benefit of this proposition is that by 2037 there is expected to be a “25% reduction in smog-causing pollution from light-duty vehicles” (California Air Resources Board). There are many aspects to the practicality of this goal such as California’s grid’s ability to handle the load of charging these cars and if there will be enough charging stations. The aspect we will be focusing on in this project is the practicality in terms of affordability and public sentiment towards EV. We will look into the idea of if residents of California will be able to afford these EV vehicles, not only right off the lot, but also when they become widely available as used cars. We will also look towards people’s opinions on these vehicles to try and get an understanding of if people will accept this change.\n",
    "\n",
    "Looking at prior studies, the affordability and accessibility of electric cars seems to be feasible within the next 10 years. Preliminary research from Nic Lutsey and Michael Nicholas indicates that electric vehicles will reach cost parity with gas-powered vehicles by 2025. This study looks at the projected costs of batteries designed for electric cars from several related studies and using those predictions projects the potential cost of these batteries for the next 5-10 years. It then combines these projections with other direct(electric car components and assembly) and indirect costs (depreciation, amortization, research and development (R&D), and administration expenses) and their projected change in price from 2018 to 2025 for both high and low-range electric vehicles. They also compare overall competitiveness of electric vehicles by analyzing the projected cost of maintenance and electricity for electric cars of different ranges to the cost of maintenance and gas for gas powered vehicles over 5 years. They took into account the projected increase in gas prices from 2018 to 2025 as well as the projected increase in the price of electricity. From both of these analysis Lutsey and Nicholas concluded that in upfront cost gas and electric vehicles, parity in price is “likely to occur between 2024–2025 for shorter-range and 2026–2028 for longer-range electric vehicles”, and that a “new vehicle buyer will see an attractive proposition to choose electric vehicles in the 2022–2026 time frame”[^Lutsey and  Nicholas].\n",
    "\n",
    "Studies on if consumer sentiment will improve towards electric vehicles is less optimistic. A study by Scott Hardman, Kenneth S Kurani, and Debapriya Chakraborty from the journal Environmental Research Communications indicates that current legislation and incentives are not enough currently to get people to consider buying an electric vehicle. By conducting a survey on the residents of Sacramento County, which has a high level of infrastructural and institutional support for electric vehicles, the study measured the level of interest towards buying an electric car from those who would not consider it to those who have bought one. The survey also asked about residents ability to change a vehicle at home, their personal familiarity with electric vehicles, the mount of advertisements they have seen, the amount of positive word of mouth, the average distance they travel by car in a year, their use of HOV lanes, and demographic info such as age, gender, and income[^Hardman, S et al]. Using this collected data they created three ordinal linear regression models, each with a different relation between the independent variable and an individual’s desire to own an electric vehicle. From this they determined that overall ownership in the area was low and that current incentives did not have a high correlation with increased interest in electric vehicles. This research does put into question if California’s goal will truly incentivize ownership of electric vehicles or if it will simply force people to consider different avenues of obtaining gas-powered vehicles outside of California. \n",
    "\n",
    "One potential barrier to electric vehicle adoption is the infrastructure needed to support EVs; switching to EVs from gas vehicles means that drivers need to have access to chargers rather than gas stations that are more commonplace. The California Air Resources Board conducted a technology review in 2022 to assess barriers to public chargers and found that EV drivers had issues with charging stations being broken, requiring membership fees, and inaccessible payment methods (California Air Resources Board). CARB concludes that widespread adoption of EVs can be achieved by addressing these barriers, particularly with memberships and expanding payment options to account for drivers who do not use contactless payment or own a smartphone.\n",
    "\n",
    "California Air Resources Board (2022, August). California moves to accelerate to 100% new zero-emission vehicle sales by 2035 | California Air Resources Board. (n.d.). Retrieved May 3, 2023, from https://ww2.arb.ca.gov/news/california-moves-accelerate-100-new-zero-emission-vehicle-sales-2035\n",
    "\n",
    "California Air Resources Board. (2022, February). Electric Vehicle Supply Equipment Standards Technology Review. Retrieved May 3, 2023, from https://ww2.arb.ca.gov/sites/default/files/2022-02/EVSE%20Standards%20Technology%20Review%204Feb22.pdf\n",
    "\n",
    "[^Hardman, S et al]: Hardman, S.  Kurani,K. Chakraborty, D. (7 Aug 2020) The usual policy levers are not engaging consumers in the transition to electric vehicles: a case of Sacramento, California. Environmental Research Communications. https://iopscience.iop.org/article/10.1088/2515-7620/aba943/meta#ercaba943s4\n",
    "\n",
    "[^Lutsey and  Nicholas]: Lutsey, N. and Nicholas, M. (2 April 2019) Update on electric vehicle costs\n",
    "in the United States through 2030. The International Council on Clean Transportation. https://theicct.org/wp-content/uploads/2021/06/EV_cost_2020_2030_20190401.pdf"
   ]
  },
  {
   "cell_type": "markdown",
   "metadata": {},
   "source": [
    "# Hypothesis\n"
   ]
  },
  {
   "cell_type": "markdown",
   "metadata": {},
   "source": [
    "We think that California is on track to meet its goal of making all vehicles being sold zero-emission vehicles. Our current reasoning is based on the fact that with rebates and financial incentives being provided for the purchase of electric vehicles, we expect that the sentiment towards electric vehicles in the state of California is trending upwards, leading us to the previously stated hypothesis."
   ]
  },
  {
   "cell_type": "markdown",
   "metadata": {},
   "source": [
    "# Data"
   ]
  },
  {
   "cell_type": "markdown",
   "metadata": {},
   "source": [
    "We are looking to have variables in two general categories: affordability of EVs and sentiment towards them. We are hoping to have the following variables for affordability: the cost of the vehicle, whether or not a rebate is applicable, whether the car is a full electric vehicle or a hybrid, the model of the vehicle, the income of the individual making the purchase, the location of the purchase, the home location of the purchaser, the availability of local charging stations (both number and distance wise), and finally the average length of the purchasers commute. Our sentiment variables would include the public sentiment score, the income of the purchaser, their education level, their personal political affiliation, their legislative district party affiliation, and their home location. There is some overlap between the two groups of variables, but we would likely need separate sets of data.\n",
    "\n",
    "This data would be stored likely in table graphics, CSV files, XML files, or ideally any other type of file that could be loaded into a dataframe and manipulated via pandas. It is likely that we will need to reference multiple datasets in order to fully research our question, and we will have to account for the fact that it is very likely that different individuals provided data for different sets. That being said, we would like our main datasets on EV purchasing (at time of purchase) and the sentiment around them to have observations numbering in the hundreds, if not thousands. We are hopeful that there will be some common underlying factor in each dataset such as home location, that would then allow us to possibly generalize data from one set to another. \n",
    "\n",
    "As for other map related details, like political districts, we are able to find some sort of historical record online. We could then write a function that would match the location of some purchaser’s home to their legislative district. All data regarding money will have to be adjusted for inflation.  \n",
    "\n",
    "We are hopeful that our data will be collected perhaps by survey or by EV selling companies. A preferable time period would be at least a year for data sets where we are observing cars sold. Additionally, the EV mandate was announced in 2020; thus data from prior to this announcement could also be useful as it would allow us to track if positive sentiment has increased since the announcement. This could be a trend caused by effective marketing. We could also see if sentiment peaked negatively around some point and see if that correlated with some real-world incident \n",
    "\n",
    "Datasets/data sources:\n",
    "Data set on EV sales, collected by DMV analysis\n",
    "data set on car sales in general, includes information about make, model, fuel type, price, etc. From Kaggle \n",
    "Paper that analyzed sentiment for EVs through charging platforms. They pulled their data from a charging station locator app (Mobility Data, pg 2 paragraph 2) \n",
    "Current California congressional district representatives, Wikipedia "
   ]
  },
  {
   "cell_type": "markdown",
   "metadata": {},
   "source": [
    "# Ethics & Privacy"
   ]
  },
  {
   "cell_type": "markdown",
   "metadata": {},
   "source": [
    "For this research question, there likely aren’t any major ethics or privacy related issues - while it is possible any survey data we take would not be anonymized, we can address that as we clean up our data. There are potential concerns about biasing our data - it is possible that we will find that the people that have accounted for zero-emission vehicle sales are the only ones that can afford it, and therefore projections in the future could fail to account for the sales of electric vehicles going down due to systemic factors. To address this potential bias, we would want to design our models to account for income when looking at public sentiment towards zero-emission vehicles and addressing that.\n"
   ]
  },
  {
   "cell_type": "markdown",
   "metadata": {},
   "source": [
    "# Team Expectations "
   ]
  },
  {
   "cell_type": "markdown",
   "metadata": {},
   "source": [
    "- Members should attend meetings or communicate through the groupchat when they can't make a meeting\n",
    "- By meeting time each member should be able to present and discuss the progress they have made \n",
    "- Members should clearly communicate what parts of the project each person will do that way the work can be split up evenly\n",
    "- Members should have work finished at the agreed time or communicate beforehand if they can't finish\n",
    "- Members should attempt to help each other on tasks if necessary and communicate if they need such help"
   ]
  },
  {
   "cell_type": "markdown",
   "metadata": {},
   "source": [
    "# Project Timeline Proposal"
   ]
  },
  {
   "cell_type": "markdown",
   "metadata": {},
   "source": [
    "| Meeting Date  | Meeting Time| Completed Before Meeting  | Discuss at Meeting |\n",
    "|---|---|---|---|\n",
    "| 5/1  |  9:30 PM | Brainstorm ideas for the research question/look for data sets  | Determine best form of communication; Discuss and decide on final project topic; discuss hypothesis; What time is best to meet, how we will split work for the project proposal, decide what the research question will be |\n",
    "| 5/3  |  9:30 PM |  Background, data, research question, hypothesis, and ethics of project proposal | Collaboration and timeline of project proposal |\n",
    "| 5/8  | 9:30 PM | Select Data Sets, Preliminary Data Wrangling, Some Descriptive Analysis Done (Nicole/Sophia)  | Split up coding work, discuss thoughts on cleaned data, discuss sentiment analysis methods  |\n",
    "| 5/15  | 9:30 PM | Work on data for checkpoint 1, Finish Wrangling (Nicole/Sophia), EDA (Weston/Katherine) | Review on work done the previous week, things to be prepared for the next week, Edit/Finalize Wrangling, Discuss EDA, Complete project check-in  |\n",
    "| 5/22 | 9:30 PM | Finish EDA (Weston/Katherine), Begin Analysis (Adi) | Review/Edit EDA, Discuss Analysis Plan and if needed add another person to help with analysis |\n",
    "| 5/29 | 9:30 PM | Work on analysis (Adi/Katherine) | Review work done on EDA and analysis/edit analysis, Complete project check-in |\n",
    "| 6/5  | 9:30 PM | Finalize project and set up the presentation (everyone) | Create final project video, Discuss/edit full project |\n",
    "| 6/13| 2:00 PM | NA | Turn in Final Project & Group Project Surveys |\n"
   ]
  },
  {
   "cell_type": "code",
   "execution_count": null,
   "metadata": {},
   "outputs": [],
   "source": []
  }
 ],
 "metadata": {
  "kernelspec": {
   "display_name": "Python 3 (ipykernel)",
   "language": "python",
   "name": "python3"
  },
  "language_info": {
   "codemirror_mode": {
    "name": "ipython",
    "version": 3
   },
   "file_extension": ".py",
   "mimetype": "text/x-python",
   "name": "python",
   "nbconvert_exporter": "python",
   "pygments_lexer": "ipython3",
   "version": "3.8.2"
  }
 },
 "nbformat": 4,
 "nbformat_minor": 2
}
