{
 "cells": [
  {
   "cell_type": "markdown",
   "metadata": {},
   "source": [
    "# COGS 108 - Data Checkpoint"
   ]
  },
  {
   "cell_type": "markdown",
   "metadata": {},
   "source": [
    "# Names\n",
    "\n",
    "- Aditya Sriram\n",
    "- Nicole Liu\n",
    "- Weston Chester\n",
    "- Sophia Conti\n",
    "- Katherine Gao"
   ]
  },
  {
   "cell_type": "markdown",
   "metadata": {},
   "source": [
    "<a id='research_question'></a>\n",
    "# Research Question"
   ]
  },
  {
   "cell_type": "markdown",
   "metadata": {},
   "source": [
    "Is California on track to reach its goal of 100% zero emission sales by 2035?\n",
    "\n",
    "Hypothesis: Based on previous data, we believe that California is on track to meet its 100% zero emission sales goal by 2035."
   ]
  },
  {
   "cell_type": "markdown",
   "metadata": {},
   "source": [
    "# Dataset(s)"
   ]
  },
  {
   "cell_type": "markdown",
   "metadata": {},
   "source": [
    "- Dataset Name: New_ZEV_Sales_Last_updated_04-21-2023_ada \n",
    "- Link to the dataset: https://www.energy.ca.gov/files/zev-and-infrastructure-stats-data\n",
    "- Number of observations: 18136\n",
    "\n",
    "This dataset is a csv file containing information about the number of ZEVs (zero emission vehicles) sold per year. The data contains columns variables such as year, fuel type, county of sale, make and model of car, and total number of vehicles sold per year. \n",
    "\n",
    "In order to use this dataset along side the next, we plan on grouping by county and then merging the two sets together. "
   ]
  },
  {
   "cell_type": "markdown",
   "metadata": {},
   "source": [
    "# Setup"
   ]
  },
  {
   "cell_type": "code",
   "execution_count": 1,
   "metadata": {},
   "outputs": [],
   "source": [
    "import pandas as pd\n",
    "\n",
    "zev_sales = pd.read_csv('zev_sales.csv')"
   ]
  },
  {
   "cell_type": "markdown",
   "metadata": {},
   "source": [
    "# Data Cleaning"
   ]
  },
  {
   "cell_type": "markdown",
   "metadata": {},
   "source": [
    "We start with the dataframe for ZEV sales."
   ]
  },
  {
   "cell_type": "code",
   "execution_count": 2,
   "metadata": {},
   "outputs": [
    {
     "data": {
      "text/html": [
       "<div>\n",
       "<style scoped>\n",
       "    .dataframe tbody tr th:only-of-type {\n",
       "        vertical-align: middle;\n",
       "    }\n",
       "\n",
       "    .dataframe tbody tr th {\n",
       "        vertical-align: top;\n",
       "    }\n",
       "\n",
       "    .dataframe thead th {\n",
       "        text-align: right;\n",
       "    }\n",
       "</style>\n",
       "<table border=\"1\" class=\"dataframe\">\n",
       "  <thead>\n",
       "    <tr style=\"text-align: right;\">\n",
       "      <th></th>\n",
       "      <th>County</th>\n",
       "      <th>FUEL_TYPE</th>\n",
       "      <th>MAKE</th>\n",
       "      <th>MODEL</th>\n",
       "      <th>Number of Vehicles</th>\n",
       "    </tr>\n",
       "    <tr>\n",
       "      <th>Data Year</th>\n",
       "      <th></th>\n",
       "      <th></th>\n",
       "      <th></th>\n",
       "      <th></th>\n",
       "      <th></th>\n",
       "    </tr>\n",
       "  </thead>\n",
       "  <tbody>\n",
       "    <tr>\n",
       "      <th>False</th>\n",
       "      <td>0</td>\n",
       "      <td>0</td>\n",
       "      <td>0</td>\n",
       "      <td>0</td>\n",
       "      <td>0</td>\n",
       "    </tr>\n",
       "  </tbody>\n",
       "</table>\n",
       "</div>"
      ],
      "text/plain": [
       "           County  FUEL_TYPE  MAKE  MODEL  Number of Vehicles\n",
       "Data Year                                                    \n",
       "False           0          0     0      0                   0"
      ]
     },
     "execution_count": 2,
     "metadata": {},
     "output_type": "execute_result"
    }
   ],
   "source": [
    "zev_sales.isna().groupby('Data Year').sum()"
   ]
  },
  {
   "cell_type": "markdown",
   "metadata": {},
   "source": [
    "Looks like theres no NaN data in this set. We should check for placeholder values ('-' or '-99'), though."
   ]
  },
  {
   "cell_type": "code",
   "execution_count": 3,
   "metadata": {},
   "outputs": [
    {
     "data": {
      "text/plain": [
       "0"
      ]
     },
     "execution_count": 3,
     "metadata": {},
     "output_type": "execute_result"
    }
   ],
   "source": [
    "zev_sales[zev_sales.eq('-').any(1)].shape[0] + zev_sales[zev_sales.eq('-99').any(1)].shape[0]"
   ]
  },
  {
   "cell_type": "markdown",
   "metadata": {},
   "source": [
    "Looks like theres no '-' or '-99' either! Good job DMV.\n",
    "\n",
    "In either case, we are looking to merge this dataset with a secondary one about car registrations, which only has data up to the year 2021. We should filter this dataset (which is about number of cars sold) to the time period of cars sold in 2021 and before. "
   ]
  },
  {
   "cell_type": "code",
   "execution_count": 4,
   "metadata": {},
   "outputs": [
    {
     "data": {
      "text/html": [
       "<div>\n",
       "<style scoped>\n",
       "    .dataframe tbody tr th:only-of-type {\n",
       "        vertical-align: middle;\n",
       "    }\n",
       "\n",
       "    .dataframe tbody tr th {\n",
       "        vertical-align: top;\n",
       "    }\n",
       "\n",
       "    .dataframe thead th {\n",
       "        text-align: right;\n",
       "    }\n",
       "</style>\n",
       "<table border=\"1\" class=\"dataframe\">\n",
       "  <thead>\n",
       "    <tr style=\"text-align: right;\">\n",
       "      <th></th>\n",
       "      <th>Data Year</th>\n",
       "      <th>County</th>\n",
       "      <th>FUEL_TYPE</th>\n",
       "      <th>MAKE</th>\n",
       "      <th>MODEL</th>\n",
       "      <th>Number of Vehicles</th>\n",
       "    </tr>\n",
       "  </thead>\n",
       "  <tbody>\n",
       "    <tr>\n",
       "      <th>0</th>\n",
       "      <td>1998</td>\n",
       "      <td>Los Angeles</td>\n",
       "      <td>Electric</td>\n",
       "      <td>Ford</td>\n",
       "      <td>Ranger</td>\n",
       "      <td>1</td>\n",
       "    </tr>\n",
       "    <tr>\n",
       "      <th>1</th>\n",
       "      <td>1998</td>\n",
       "      <td>Orange</td>\n",
       "      <td>Electric</td>\n",
       "      <td>Ford</td>\n",
       "      <td>Ranger</td>\n",
       "      <td>1</td>\n",
       "    </tr>\n",
       "    <tr>\n",
       "      <th>2</th>\n",
       "      <td>1998</td>\n",
       "      <td>San Bernardino</td>\n",
       "      <td>Electric</td>\n",
       "      <td>Ford</td>\n",
       "      <td>Ranger</td>\n",
       "      <td>2</td>\n",
       "    </tr>\n",
       "    <tr>\n",
       "      <th>3</th>\n",
       "      <td>1998</td>\n",
       "      <td>San Mateo</td>\n",
       "      <td>Electric</td>\n",
       "      <td>Ford</td>\n",
       "      <td>Ranger</td>\n",
       "      <td>1</td>\n",
       "    </tr>\n",
       "    <tr>\n",
       "      <th>4</th>\n",
       "      <td>1999</td>\n",
       "      <td>Santa Barbara</td>\n",
       "      <td>Electric</td>\n",
       "      <td>Ford</td>\n",
       "      <td>Ranger</td>\n",
       "      <td>1</td>\n",
       "    </tr>\n",
       "    <tr>\n",
       "      <th>...</th>\n",
       "      <td>...</td>\n",
       "      <td>...</td>\n",
       "      <td>...</td>\n",
       "      <td>...</td>\n",
       "      <td>...</td>\n",
       "      <td>...</td>\n",
       "    </tr>\n",
       "    <tr>\n",
       "      <th>12465</th>\n",
       "      <td>2021</td>\n",
       "      <td>Yuba</td>\n",
       "      <td>PHEV</td>\n",
       "      <td>Kia</td>\n",
       "      <td>Sorento PHEV</td>\n",
       "      <td>1</td>\n",
       "    </tr>\n",
       "    <tr>\n",
       "      <th>12466</th>\n",
       "      <td>2021</td>\n",
       "      <td>Yuba</td>\n",
       "      <td>PHEV</td>\n",
       "      <td>Subaru</td>\n",
       "      <td>Crosstrek</td>\n",
       "      <td>3</td>\n",
       "    </tr>\n",
       "    <tr>\n",
       "      <th>12467</th>\n",
       "      <td>2021</td>\n",
       "      <td>Yuba</td>\n",
       "      <td>PHEV</td>\n",
       "      <td>Toyota</td>\n",
       "      <td>Prius Prime</td>\n",
       "      <td>16</td>\n",
       "    </tr>\n",
       "    <tr>\n",
       "      <th>12468</th>\n",
       "      <td>2021</td>\n",
       "      <td>Yuba</td>\n",
       "      <td>PHEV</td>\n",
       "      <td>Toyota</td>\n",
       "      <td>RAV4 Prime</td>\n",
       "      <td>4</td>\n",
       "    </tr>\n",
       "    <tr>\n",
       "      <th>12469</th>\n",
       "      <td>2021</td>\n",
       "      <td>Yuba</td>\n",
       "      <td>PHEV</td>\n",
       "      <td>Volvo</td>\n",
       "      <td>XC90</td>\n",
       "      <td>1</td>\n",
       "    </tr>\n",
       "  </tbody>\n",
       "</table>\n",
       "<p>12470 rows × 6 columns</p>\n",
       "</div>"
      ],
      "text/plain": [
       "       Data Year          County FUEL_TYPE    MAKE         MODEL  \\\n",
       "0           1998     Los Angeles  Electric    Ford        Ranger   \n",
       "1           1998          Orange  Electric    Ford        Ranger   \n",
       "2           1998  San Bernardino  Electric    Ford        Ranger   \n",
       "3           1998       San Mateo  Electric    Ford        Ranger   \n",
       "4           1999   Santa Barbara  Electric    Ford        Ranger   \n",
       "...          ...             ...       ...     ...           ...   \n",
       "12465       2021            Yuba      PHEV     Kia  Sorento PHEV   \n",
       "12466       2021            Yuba      PHEV  Subaru     Crosstrek   \n",
       "12467       2021            Yuba      PHEV  Toyota   Prius Prime   \n",
       "12468       2021            Yuba      PHEV  Toyota    RAV4 Prime   \n",
       "12469       2021            Yuba      PHEV   Volvo          XC90   \n",
       "\n",
       "       Number of Vehicles  \n",
       "0                       1  \n",
       "1                       1  \n",
       "2                       2  \n",
       "3                       1  \n",
       "4                       1  \n",
       "...                   ...  \n",
       "12465                   1  \n",
       "12466                   3  \n",
       "12467                  16  \n",
       "12468                   4  \n",
       "12469                   1  \n",
       "\n",
       "[12470 rows x 6 columns]"
      ]
     },
     "execution_count": 4,
     "metadata": {},
     "output_type": "execute_result"
    }
   ],
   "source": [
    "zev_sales = zev_sales[zev_sales['Data Year'] <= 2021]\n",
    "\n",
    "zev_sales"
   ]
  },
  {
   "cell_type": "markdown",
   "metadata": {},
   "source": [
    "We also see that the age of the average car in 2021 is [12 years](https://www.caranddriver.com/news/a33457915/average-age-vehicles-on-road-12-years/). However, EV batteries are predicted to last between [12-15 years](https://cars.usnews.com/cars-trucks/advice/how-long-do-ev-batteries-last), meaning that they would potentially last longer than the body of the car itself. Thus, we will say that we expect the average lifetime of an electric vehicle to be 12 years. Our dataset has its oldest car dating to 1998. By the average 12 year lifespan, we no longer expect that car to be in use and so it should be removed from the dataset. <br>\n",
    "\n",
    "If we look at total automobile registrations in 2021, which is the most recent year from the other dataset, we would expect the oldest car registered (on average) to be 12 years old. This leads us to the conclusion that we should only look at ZEVs sold in or after 2009 in order to remain in the proper time frame."
   ]
  },
  {
   "cell_type": "code",
   "execution_count": 5,
   "metadata": {},
   "outputs": [
    {
     "data": {
      "text/html": [
       "<div>\n",
       "<style scoped>\n",
       "    .dataframe tbody tr th:only-of-type {\n",
       "        vertical-align: middle;\n",
       "    }\n",
       "\n",
       "    .dataframe tbody tr th {\n",
       "        vertical-align: top;\n",
       "    }\n",
       "\n",
       "    .dataframe thead th {\n",
       "        text-align: right;\n",
       "    }\n",
       "</style>\n",
       "<table border=\"1\" class=\"dataframe\">\n",
       "  <thead>\n",
       "    <tr style=\"text-align: right;\">\n",
       "      <th></th>\n",
       "      <th>Data Year</th>\n",
       "      <th>County</th>\n",
       "      <th>FUEL_TYPE</th>\n",
       "      <th>MAKE</th>\n",
       "      <th>MODEL</th>\n",
       "      <th>Number of Vehicles</th>\n",
       "    </tr>\n",
       "  </thead>\n",
       "  <tbody>\n",
       "    <tr>\n",
       "      <th>19</th>\n",
       "      <td>2009</td>\n",
       "      <td>Alameda</td>\n",
       "      <td>Electric</td>\n",
       "      <td>Tesla</td>\n",
       "      <td>Roadster</td>\n",
       "      <td>5</td>\n",
       "    </tr>\n",
       "    <tr>\n",
       "      <th>20</th>\n",
       "      <td>2009</td>\n",
       "      <td>Contra Costa</td>\n",
       "      <td>Electric</td>\n",
       "      <td>Tesla</td>\n",
       "      <td>Roadster</td>\n",
       "      <td>1</td>\n",
       "    </tr>\n",
       "    <tr>\n",
       "      <th>21</th>\n",
       "      <td>2009</td>\n",
       "      <td>Humboldt</td>\n",
       "      <td>Electric</td>\n",
       "      <td>Ford</td>\n",
       "      <td>Ranger</td>\n",
       "      <td>1</td>\n",
       "    </tr>\n",
       "    <tr>\n",
       "      <th>22</th>\n",
       "      <td>2009</td>\n",
       "      <td>Kern</td>\n",
       "      <td>Electric</td>\n",
       "      <td>Tesla</td>\n",
       "      <td>Roadster</td>\n",
       "      <td>1</td>\n",
       "    </tr>\n",
       "    <tr>\n",
       "      <th>23</th>\n",
       "      <td>2009</td>\n",
       "      <td>Los Angeles</td>\n",
       "      <td>Electric</td>\n",
       "      <td>MINI</td>\n",
       "      <td>Cooper</td>\n",
       "      <td>6</td>\n",
       "    </tr>\n",
       "    <tr>\n",
       "      <th>...</th>\n",
       "      <td>...</td>\n",
       "      <td>...</td>\n",
       "      <td>...</td>\n",
       "      <td>...</td>\n",
       "      <td>...</td>\n",
       "      <td>...</td>\n",
       "    </tr>\n",
       "    <tr>\n",
       "      <th>12465</th>\n",
       "      <td>2021</td>\n",
       "      <td>Yuba</td>\n",
       "      <td>PHEV</td>\n",
       "      <td>Kia</td>\n",
       "      <td>Sorento PHEV</td>\n",
       "      <td>1</td>\n",
       "    </tr>\n",
       "    <tr>\n",
       "      <th>12466</th>\n",
       "      <td>2021</td>\n",
       "      <td>Yuba</td>\n",
       "      <td>PHEV</td>\n",
       "      <td>Subaru</td>\n",
       "      <td>Crosstrek</td>\n",
       "      <td>3</td>\n",
       "    </tr>\n",
       "    <tr>\n",
       "      <th>12467</th>\n",
       "      <td>2021</td>\n",
       "      <td>Yuba</td>\n",
       "      <td>PHEV</td>\n",
       "      <td>Toyota</td>\n",
       "      <td>Prius Prime</td>\n",
       "      <td>16</td>\n",
       "    </tr>\n",
       "    <tr>\n",
       "      <th>12468</th>\n",
       "      <td>2021</td>\n",
       "      <td>Yuba</td>\n",
       "      <td>PHEV</td>\n",
       "      <td>Toyota</td>\n",
       "      <td>RAV4 Prime</td>\n",
       "      <td>4</td>\n",
       "    </tr>\n",
       "    <tr>\n",
       "      <th>12469</th>\n",
       "      <td>2021</td>\n",
       "      <td>Yuba</td>\n",
       "      <td>PHEV</td>\n",
       "      <td>Volvo</td>\n",
       "      <td>XC90</td>\n",
       "      <td>1</td>\n",
       "    </tr>\n",
       "  </tbody>\n",
       "</table>\n",
       "<p>12451 rows × 6 columns</p>\n",
       "</div>"
      ],
      "text/plain": [
       "       Data Year        County FUEL_TYPE    MAKE         MODEL  \\\n",
       "19          2009       Alameda  Electric   Tesla      Roadster   \n",
       "20          2009  Contra Costa  Electric   Tesla      Roadster   \n",
       "21          2009      Humboldt  Electric    Ford        Ranger   \n",
       "22          2009          Kern  Electric   Tesla      Roadster   \n",
       "23          2009   Los Angeles  Electric    MINI        Cooper   \n",
       "...          ...           ...       ...     ...           ...   \n",
       "12465       2021          Yuba      PHEV     Kia  Sorento PHEV   \n",
       "12466       2021          Yuba      PHEV  Subaru     Crosstrek   \n",
       "12467       2021          Yuba      PHEV  Toyota   Prius Prime   \n",
       "12468       2021          Yuba      PHEV  Toyota    RAV4 Prime   \n",
       "12469       2021          Yuba      PHEV   Volvo          XC90   \n",
       "\n",
       "       Number of Vehicles  \n",
       "19                      5  \n",
       "20                      1  \n",
       "21                      1  \n",
       "22                      1  \n",
       "23                      6  \n",
       "...                   ...  \n",
       "12465                   1  \n",
       "12466                   3  \n",
       "12467                  16  \n",
       "12468                   4  \n",
       "12469                   1  \n",
       "\n",
       "[12451 rows x 6 columns]"
      ]
     },
     "execution_count": 5,
     "metadata": {},
     "output_type": "execute_result"
    }
   ],
   "source": [
    "zev_sales = zev_sales[zev_sales['Data Year'] >= 2009]\n",
    "\n",
    "zev_sales"
   ]
  }
 ],
 "metadata": {
  "kernelspec": {
   "display_name": "Python 3 (ipykernel)",
   "language": "python",
   "name": "python3"
  },
  "language_info": {
   "codemirror_mode": {
    "name": "ipython",
    "version": 3
   },
   "file_extension": ".py",
   "mimetype": "text/x-python",
   "name": "python",
   "nbconvert_exporter": "python",
   "pygments_lexer": "ipython3",
   "version": "3.9.13"
  }
 },
 "nbformat": 4,
 "nbformat_minor": 2
}
